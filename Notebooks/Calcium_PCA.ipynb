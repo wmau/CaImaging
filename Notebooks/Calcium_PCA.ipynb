{
 "cells": [
  {
   "cell_type": "code",
   "execution_count": null,
   "metadata": {},
   "outputs": [],
   "source": [
    "import numpy as np\n",
    "from numpy import genfromtxt\n",
    "import matplotlib.pyplot as plt\n",
    "from IPython.core.display import display, HTML\n",
    "import sys\n",
    "sys.path.append('../')\n",
    "import PCA_funcs\n",
    "display(HTML(\"<style>.container { width:90% !important; }</style>\"))\n",
    "display(HTML(\"\"\"\n",
    "<style>\n",
    ".container { width:100% !important; }\n",
    ".output {\n",
    "    display: flex;\n",
    "    align-items: center;\n",
    "    text-align: center;\n",
    "}\n",
    "</style>\n",
    "\"\"\"))"
   ]
  },
  {
   "cell_type": "markdown",
   "metadata": {},
   "source": [
    "### Load traces, normalize them, and plot them\n",
    "> #### *firingRates*: Specify path to data and whether the data should be normalized\n",
    "> #### *normalize*: Should each neuron be normalized to be between 0 and 1?\n",
    "> #### *samplingRate*: Number of frames acquired per second (used to make Time vector)"
   ]
  },
  {
   "cell_type": "code",
   "execution_count": null,
   "metadata": {},
   "outputs": [],
   "source": [
    "%matplotlib inline\n",
    "firingRates = np.genfromtxt(\"/media/joezaki/CSstorage/Joe/Retrospective_Linking/RL_Imaging/RLI2/RLI2_Habituation/RLI2-3_HabituationDay2AndSetHeight/RLI2-3_HabituationDay2AndSetHeightRLI2_Habituation_minian_traces.csv\",\n",
    "                            delimiter=',')\n",
    "normalize = True\n",
    "samplingRate = 1/30\n",
    "Time = np.arange(0, firingRates.shape[1]*samplingRate, samplingRate)\n",
    "\n",
    "if normalize:\n",
    "    for i in range(firingRates.shape[0]):\n",
    "        firingRates[i,:]  = firingRates[i,:]/firingRates[i,:].max()\n",
    "\n",
    "# Plot all currents as heatmap\n",
    "plt.figure(figsize=(25,8))\n",
    "plt.imshow(firingRates, aspect='auto', cmap='viridis')\n",
    "plt.colorbar()\n",
    "plt.show()\n",
    "\n",
    "# Plot individual currents\n",
    "plt.figure(figsize=(20,8))\n",
    "for i in range(30):\n",
    "    plt.plot(firingRates[i,:] + i*firingRates[i,:].max(), linewidth=1)\n",
    "plt.ylabel(\"Current\")\n",
    "plt.xlabel(\"Time\")\n",
    "plt.show()"
   ]
  },
  {
   "cell_type": "markdown",
   "metadata": {},
   "source": [
    "### Run PCA, project rates onto first PCs, plot sorted eigenvalues & plot first eigenvectors\n",
    "> - #### Transpose firingRates (i.e. firingRates.copy().T on line 2) if you would like to collapse across cell dimension (for state space analysis)\n",
    "> - #### *numProjections*: Specify which PCs to project data onto (as list; usually 3)\n",
    "> - #### *numVectors*: Specify which eigenvectors to plot (as list)"
   ]
  },
  {
   "cell_type": "code",
   "execution_count": null,
   "metadata": {},
   "outputs": [],
   "source": [
    "%matplotlib inline\n",
    "rates = firingRates.copy().T\n",
    "evalues, evectors, projections = PCA_funcs.runPCA(rates, numProjections=[0,1,2,3,4], numVectors=[0,1,2,3,4])"
   ]
  },
  {
   "cell_type": "markdown",
   "metadata": {},
   "source": [
    "### Plot 3D PC space color-coded based on the progression of time\n",
    "> #### *color*: Specify what to shade each data point in as. Providing a vector of another modality is ideal."
   ]
  },
  {
   "cell_type": "code",
   "execution_count": null,
   "metadata": {},
   "outputs": [],
   "source": [
    "%matplotlib notebook\n",
    "PCA_funcs.projectionPlot3D(projections, Time)"
   ]
  },
  {
   "cell_type": "markdown",
   "metadata": {},
   "source": [
    "### Plot animation of progression of time in 3D PC space\n",
    "> #### Press 'i' twice to interrupt kernel and stop running animation\n",
    "> #### *samplingRate*: Specify the sampling rate (in seconds) of the recording. Default is 1/30.\n",
    "> #### *color*: Specify what color to plot the points (either as string or list of number values from another modality)\n",
    "> #### *saveSeries*: Specify whether or not to save the images\n",
    "> #### *path*: Where to save the image files if *saveSeries* is True"
   ]
  },
  {
   "cell_type": "code",
   "execution_count": null,
   "metadata": {},
   "outputs": [],
   "source": [
    "%matplotlib inline\n",
    "PCA_funcs.PCAthroughTime(projections, samplingRate=samplingRate, color=Time, saveSeries=False, path='.')"
   ]
  },
  {
   "cell_type": "code",
   "execution_count": null,
   "metadata": {},
   "outputs": [],
   "source": []
  }
 ],
 "metadata": {
  "kernelspec": {
   "display_name": "Python 3",
   "language": "python",
   "name": "python3"
  },
  "language_info": {
   "codemirror_mode": {
    "name": "ipython",
    "version": 3
   },
   "file_extension": ".py",
   "mimetype": "text/x-python",
   "name": "python",
   "nbconvert_exporter": "python",
   "pygments_lexer": "ipython3",
   "version": "3.7.4"
  },
  "varInspector": {
   "cols": {
    "lenName": 16,
    "lenType": 16,
    "lenVar": 40
   },
   "kernels_config": {
    "python": {
     "delete_cmd_postfix": "",
     "delete_cmd_prefix": "del ",
     "library": "var_list.py",
     "varRefreshCmd": "print(var_dic_list())"
    },
    "r": {
     "delete_cmd_postfix": ") ",
     "delete_cmd_prefix": "rm(",
     "library": "var_list.r",
     "varRefreshCmd": "cat(var_dic_list()) "
    }
   },
   "position": {
    "height": "508.646px",
    "left": "1548.67px",
    "right": "20px",
    "top": "120px",
    "width": "351.333px"
   },
   "types_to_exclude": [
    "module",
    "function",
    "builtin_function_or_method",
    "instance",
    "_Feature"
   ],
   "window_display": false
  }
 },
 "nbformat": 4,
 "nbformat_minor": 4
}
